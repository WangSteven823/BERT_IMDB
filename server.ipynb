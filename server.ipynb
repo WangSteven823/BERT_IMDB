{
 "cells": [
  {
   "cell_type": "code",
   "execution_count": 1,
   "id": "1a982df8-4f9b-427b-95a0-5d0821040f04",
   "metadata": {},
   "outputs": [
    {
     "name": "stdout",
     "output_type": "stream",
     "text": [
      " * Serving Flask app '__main__'\n",
      " * Debug mode: off\n"
     ]
    },
    {
     "name": "stderr",
     "output_type": "stream",
     "text": [
      "\u001b[31m\u001b[1mWARNING: This is a development server. Do not use it in a production deployment. Use a production WSGI server instead.\u001b[0m\n",
      " * Running on http://127.0.0.1:5000\n",
      "\u001b[33mPress CTRL+C to quit\u001b[0m\n"
     ]
    }
   ],
   "source": [
    "from transformers import pipeline\n",
    "from flask import Flask, request, render_template, jsonify\n",
    "\n",
    "\n",
    "model_name = \"./model/bert-finetuned-pretrained-imdb-sentiment/\"\n",
    "app = Flask(__name__, template_folder= \"./templates/\")\n",
    "    \n",
    "@app.route('/')\n",
    "def text():\n",
    "    return render_template(\"review.html\") \n",
    "    \n",
    "@app.route(\"/predict\", methods=['GET', 'POST'])\n",
    "def predict():\n",
    "    if request.method == 'POST':\n",
    "        movie_review = request.form['review']\n",
    "        token_classifier = pipeline(\n",
    "            \"text-classification\",\n",
    "            model=model_name,\n",
    "            tokenizer=model_name,\n",
    "            padding=True,\n",
    "            truncation=True,\n",
    "            device=\"cuda\"\n",
    "        )\n",
    "        response = token_classifier(movie_review)[0]\n",
    "        print(\"post : review => \", movie_review)\n",
    "        print(response)\n",
    "        return jsonify({\"評論\": movie_review, \"類別\": response[\"label\"], \"分數\": response[\"score\"]})\n",
    "    else:\n",
    "        print(\"get : review => \", movie_review)\n",
    "        return jsonify(movie_review)\n",
    "\n",
    "if __name__ == '__main__':\n",
    "    app.run(host=\"0.0.0.0\", port=\"5000\")\n",
    "    "
   ]
  },
  {
   "cell_type": "code",
   "execution_count": null,
   "id": "2a4f9a16-7508-46e8-b2d9-ff2a7f84040b",
   "metadata": {},
   "outputs": [],
   "source": []
  }
 ],
 "metadata": {
  "kernelspec": {
   "display_name": "Python 3 (ipykernel)",
   "language": "python",
   "name": "python3"
  },
  "language_info": {
   "codemirror_mode": {
    "name": "ipython",
    "version": 3
   },
   "file_extension": ".py",
   "mimetype": "text/x-python",
   "name": "python",
   "nbconvert_exporter": "python",
   "pygments_lexer": "ipython3",
   "version": "3.12.4"
  }
 },
 "nbformat": 4,
 "nbformat_minor": 5
}
