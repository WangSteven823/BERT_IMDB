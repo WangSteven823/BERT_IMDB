{
 "cells": [
  {
   "cell_type": "code",
   "execution_count": 1,
   "id": "1a982df8-4f9b-427b-95a0-5d0821040f04",
   "metadata": {},
   "outputs": [
    {
     "name": "stdout",
     "output_type": "stream",
     "text": [
      " * Serving Flask app '__main__'\n",
      " * Debug mode: off\n"
     ]
    },
    {
     "name": "stderr",
     "output_type": "stream",
     "text": [
      "WARNING: This is a development server. Do not use it in a production deployment. Use a production WSGI server instead.\n",
      " * Running on http://127.0.0.1:5000\n",
      "Press CTRL+C to quit\n",
      "127.0.0.1 - - [11/Feb/2025 15:40:27] \"GET / HTTP/1.1\" 200 -\n",
      "127.0.0.1 - - [11/Feb/2025 15:40:27] \"GET /favicon.ico HTTP/1.1\" 404 -\n",
      "C:\\Users\\Steven\\anaconda3\\envs\\dl_frame\\Lib\\site-packages\\transformers\\models\\bert\\modeling_bert.py:439: UserWarning: 1Torch was not compiled with flash attention. (Triggered internally at C:\\cb\\pytorch_1000000000000\\work\\aten\\src\\ATen\\native\\transformers\\cuda\\sdp_utils.cpp:455.)\n",
      "  attn_output = torch.nn.functional.scaled_dot_product_attention(\n",
      "127.0.0.1 - - [11/Feb/2025 15:40:41] \"POST /predict HTTP/1.1\" 200 -\n"
     ]
    },
    {
     "name": "stdout",
     "output_type": "stream",
     "text": [
      "post : review =>  5 out of 10.\n",
      "{'label': 'NEGATIVE', 'score': 0.9996209144592285}\n"
     ]
    },
    {
     "name": "stderr",
     "output_type": "stream",
     "text": [
      "127.0.0.1 - - [11/Feb/2025 15:40:56] \"POST /predict HTTP/1.1\" 200 -\n"
     ]
    },
    {
     "name": "stdout",
     "output_type": "stream",
     "text": [
      "post : review =>  Five out of ten.\n",
      "{'label': 'NEGATIVE', 'score': 0.9843302369117737}\n"
     ]
    },
    {
     "name": "stderr",
     "output_type": "stream",
     "text": [
      "127.0.0.1 - - [11/Feb/2025 15:41:13] \"POST /predict HTTP/1.1\" 200 -\n"
     ]
    },
    {
     "name": "stdout",
     "output_type": "stream",
     "text": [
      "post : review =>  7 out of 10.\n",
      "{'label': 'POSITIVE', 'score': 0.9988480806350708}\n"
     ]
    },
    {
     "name": "stderr",
     "output_type": "stream",
     "text": [
      "127.0.0.1 - - [11/Feb/2025 15:41:31] \"POST /predict HTTP/1.1\" 200 -\n"
     ]
    },
    {
     "name": "stdout",
     "output_type": "stream",
     "text": [
      "post : review =>  Seven out of ten.\n",
      "{'label': 'POSITIVE', 'score': 0.9992144107818604}\n"
     ]
    },
    {
     "name": "stderr",
     "output_type": "stream",
     "text": [
      "127.0.0.1 - - [11/Feb/2025 15:41:51] \"POST /predict HTTP/1.1\" 200 -\n"
     ]
    },
    {
     "name": "stdout",
     "output_type": "stream",
     "text": [
      "post : review =>  The movie has a very simple plot.\n",
      "{'label': 'NEGATIVE', 'score': 0.838092029094696}\n"
     ]
    },
    {
     "name": "stderr",
     "output_type": "stream",
     "text": [
      "127.0.0.1 - - [11/Feb/2025 15:42:12] \"POST /predict HTTP/1.1\" 200 -\n"
     ]
    },
    {
     "name": "stdout",
     "output_type": "stream",
     "text": [
      "post : review =>  I can't wait to see the next episode.\n",
      "{'label': 'POSITIVE', 'score': 0.9992853999137878}\n"
     ]
    },
    {
     "name": "stderr",
     "output_type": "stream",
     "text": [
      "127.0.0.1 - - [11/Feb/2025 15:42:28] \"POST /predict HTTP/1.1\" 200 -\n"
     ]
    },
    {
     "name": "stdout",
     "output_type": "stream",
     "text": [
      "post : review =>  The movie was rated as average.\n",
      "{'label': 'NEGATIVE', 'score': 0.9812111854553223}\n"
     ]
    },
    {
     "name": "stderr",
     "output_type": "stream",
     "text": [
      "127.0.0.1 - - [11/Feb/2025 15:42:44] \"POST /predict HTTP/1.1\" 200 -\n"
     ]
    },
    {
     "name": "stdout",
     "output_type": "stream",
     "text": [
      "post : review =>  The movie was rated as average, but i think it is not bad at all.\n",
      "{'label': 'POSITIVE', 'score': 0.6405724287033081}\n"
     ]
    },
    {
     "name": "stderr",
     "output_type": "stream",
     "text": [
      "127.0.0.1 - - [11/Feb/2025 15:44:01] \"POST /predict HTTP/1.1\" 200 -\n"
     ]
    },
    {
     "name": "stdout",
     "output_type": "stream",
     "text": [
      "post : review =>  As a fan of baseball and movies this has to be one of my favorites in both categories. Barry Pepper and Thomas Jane do a fantastic job in their roles as Roger Maris and Mickey Mantle. Billy Crystal (not to my surprise) knew exactly what he was doing for the movie and made it to be the best baseball movie I've seen since Field of Dreams (no offense to Rookie of the Year,Little Big League or the first two Major League movies). This movie made me like the Yankees for the first time in my life. Now if only someone could make a movie about the Pirates, aside from the original Angels in the Outfield. I'm sure there are movies, but let's get the biggest Pirates fan in Hollywood and have him make the Roberto Clemente movie...\n",
      "{'label': 'POSITIVE', 'score': 0.99748694896698}\n"
     ]
    },
    {
     "name": "stderr",
     "output_type": "stream",
     "text": [
      "127.0.0.1 - - [11/Feb/2025 15:45:44] \"POST /predict HTTP/1.1\" 200 -\n"
     ]
    },
    {
     "name": "stdout",
     "output_type": "stream",
     "text": [
      "post : review =>  There have been many films made dealing with an individual who's outer appearance is completely at odds with their inner character. Some of these films are quite good but this is by far and away the very best. This is probably one of the most perfect films ever made. It succeeds on every level. Visually it transports one into a dark, grey, industrial nightmare of a world. It's within this world that we come to discover true beauty. It lies within one hideously deformed, abused and unfortunate soul who is being kicked around in this hellish existence. The screenplay, acting, direction all come together to create this extraordinary viewing experience. You really feel like you get inside this man and his tortured existence. The ending is one of the most effective and completely engrossing I've ever seen. Rarely does a film find a way to leave us with such a sense of closure and lingering fascination. The thing that really makes this film truly great is it changes the way people see themselves, other people and the world. I can still remember the palpable air of silence and awe over the audience when leaving the theater both times I saw it on the big screen. There's a transforming quality about it. You only need to read the many other user comments to see how people were moved and changed by this film. If you haven't seen it, it's a must!\n",
      "{'label': 'POSITIVE', 'score': 0.9987080097198486}\n"
     ]
    },
    {
     "name": "stderr",
     "output_type": "stream",
     "text": [
      "127.0.0.1 - - [11/Feb/2025 15:46:48] \"POST /predict HTTP/1.1\" 200 -\n"
     ]
    },
    {
     "name": "stdout",
     "output_type": "stream",
     "text": [
      "post : review =>  Avoid this film at all costs! This is just a very very cheap remake of the french movie by the same name. Being a big fan of that Taxi, I was intrigued to see what the Yanks had done with it. Watching it was painful, the only reason I watched till the end was to see how low they were going to go with this film.\n",
      "\n",
      "Queen Latifa's performance is the only redeeming aspect of this film, who does her best with an unoriginal, crass and cheap script. The best scenes are direct rip-offs of the original film and Jimmy Fallon is wasted on a one dimensional ridiculous character.\n",
      "\n",
      "Go see the original french film and give this one as wide a berth as you can!\n",
      "{'label': 'NEGATIVE', 'score': 0.9998551607131958}\n"
     ]
    }
   ],
   "source": [
    "from transformers import pipeline\n",
    "from flask import Flask, request, render_template, jsonify\n",
    "\n",
    "\n",
    "model_name = \"./model/bert-finetuned-pretrained-imdb-sentiment/\"\n",
    "app = Flask(__name__, template_folder= \"./templates/\")\n",
    "    \n",
    "@app.route('/')\n",
    "def text():\n",
    "    return render_template(\"review.html\") \n",
    "    \n",
    "@app.route(\"/predict\", methods=['GET', 'POST'])\n",
    "def predict():\n",
    "    if request.method == 'POST':\n",
    "        movie_review = request.form['review']\n",
    "        token_classifier = pipeline(\n",
    "            \"text-classification\",\n",
    "            model=model_name,\n",
    "            tokenizer=model_name,\n",
    "            padding=True,\n",
    "            truncation=True,\n",
    "            device=\"cuda\"\n",
    "        )\n",
    "        response = token_classifier(movie_review)[0]\n",
    "        print(\"post : review => \", movie_review)\n",
    "        print(response)\n",
    "        return jsonify({\"評論\": movie_review, \"類別\": response[\"label\"], \"分數\": response[\"score\"]})\n",
    "    else:\n",
    "        print(\"get : review => \", movie_review)\n",
    "        return jsonify(movie_review)\n",
    "\n",
    "if __name__ == '__main__':\n",
    "    app.run()\n",
    "    "
   ]
  }
 ],
 "metadata": {
  "kernelspec": {
   "display_name": "Python 3 (ipykernel)",
   "language": "python",
   "name": "python3"
  },
  "language_info": {
   "codemirror_mode": {
    "name": "ipython",
    "version": 3
   },
   "file_extension": ".py",
   "mimetype": "text/x-python",
   "name": "python",
   "nbconvert_exporter": "python",
   "pygments_lexer": "ipython3",
   "version": "3.12.4"
  }
 },
 "nbformat": 4,
 "nbformat_minor": 5
}
