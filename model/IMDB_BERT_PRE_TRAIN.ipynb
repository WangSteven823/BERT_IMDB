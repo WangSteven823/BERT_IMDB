{
 "cells": [
  {
   "cell_type": "code",
   "execution_count": 1,
   "id": "a90f800b-b259-4960-802a-95c825a76cfc",
   "metadata": {},
   "outputs": [],
   "source": [
    "import os\n",
    "import time\n",
    "import numpy as np\n",
    "import re \n",
    "import torch \n",
    "import bitsandbytes as bnb\n",
    "import evaluate\n",
    "import matplotlib.pyplot as plt\n",
    "\n",
    "from transformers import set_seed\n",
    "from datasets import DatasetDict\n",
    "from transformers import BertTokenizerFast\n",
    "from transformers import BertConfig\n",
    "from transformers import BertForPreTraining\n",
    "from transformers import DataCollatorForLanguageModeling\n",
    "from torch.utils.data import DataLoader\n",
    "from torch import nn\n",
    "from transformers.trainer_pt_utils import get_parameter_names\n",
    "from accelerate import Accelerator\n",
    "from transformers import get_scheduler\n",
    "from tqdm.auto import tqdm\n",
    "\n",
    "seed = 42\n",
    "os.environ[\"CUBLAS_WORKSPACE_CONFIG\"] = \":4096:8\"\n",
    "set_seed(seed, deterministic=True)"
   ]
  },
  {
   "cell_type": "markdown",
   "id": "e4ac9585-0988-42c8-8709-59ad5fd7edef",
   "metadata": {},
   "source": [
    "<font face=Helvetica>  \n",
    "    \n",
    "# **Data**  \n",
    "  \n",
    ">### **IMDB Dataset**\n",
    ">\n",
    ">> * ##### IMDB Dataset is a dataset from IMDB with a large number of movie reviews, it is an **`unsupervised data`** which is used for pre-training BERT model. The label of movie reviews is not classified.  \n",
    ">> * ##### **Train data: `40000`**\n",
    ">> * ##### **Test data: `10000`**\n",
    ">> * ##### Set seed for the **`reproducibility`**"
   ]
  },
  {
   "cell_type": "code",
   "execution_count": 2,
   "id": "e4e739eb-2f70-41ad-b0c7-2c7b57342978",
   "metadata": {},
   "outputs": [
    {
     "data": {
      "text/plain": [
       "DatasetDict({\n",
       "    train: Dataset({\n",
       "        features: ['text', 'label'],\n",
       "        num_rows: 40000\n",
       "    })\n",
       "    test: Dataset({\n",
       "        features: ['text', 'label'],\n",
       "        num_rows: 10000\n",
       "    })\n",
       "})"
      ]
     },
     "execution_count": 2,
     "metadata": {},
     "output_type": "execute_result"
    }
   ],
   "source": [
    "raw_data = DatasetDict.from_parquet({\"unsupervised\": \"/src/dataset/unsupervised.parquet\"})\n",
    "raw_data = raw_data['unsupervised'].train_test_split(test_size=0.2, shuffle=True ,seed=seed)\n",
    "raw_data"
   ]
  },
  {
   "cell_type": "markdown",
   "id": "d20d796f-8937-4cc5-b12b-8eaff5266ef9",
   "metadata": {},
   "source": [
    "<font face=Helvetica>  \n",
    "    \n",
    "# **Pre-Processing**  \n",
    "  \n",
    ">### **Substitution**\n",
    ">\n",
    ">>* ##### Replace Unicode Hex code point with the representation of character.\n",
    ">>* ##### Replace **`<br>`** HTML line break with ` `.\n",
    ">>* ##### Ensure there is only one space between punctuation marks and text.\n",
    ">>* ##### Delete spaces between punctuation marks.\n",
    ">>* ##### Strip spaces out of text. At the end of text, add a period if there is no any punctuation marks.\n",
    ">\n",
    ">### **Tokenization**\n",
    ">\n",
    ">>* ##### **WordPiece tokenization algorithm:** WordPiece vocabulary starts from initial alphabet, numbers, symbols in pre-training text, and special tokens used by the model. Each time the merging of pair is added into vocabulary until vocabulary size reach to setting (default 30522 for BERT model)\n",
    ">>> ##### **Step1.** Each word is initially split into characters, all the characters are added a prefix ( **`##`** ) except first character of words.\n",
    ">>> ##### For instance, **`\"training\"`** turns into **`\"t\" \"##r\" \"##a\" \"##i\" \"##n\" \"##i\" \"##n\" \"##g\"`**\n",
    ">>> ##### **Step2.** WordPiece computes a score for each pair by merge rule. By dividing the frequency of the pair, the algorithm prioritizes the merging of pairs where the individual parts are less frequent in the vocabulary. Adding the merging of pair into the vocabulary.\n",
    ">>> ##### $$Score = \\frac{freq\\;of\\;pair}{ (\\,freq\\;of\\;first\\;element\\,) \\times (\\,freq\\;of\\;second\\;element\\,) }$$\n",
    ">>> ##### **Step3.** Repeat the step2 until the vocabulary size equal to setting.\n",
    ">>* ##### **Tokenizer:** Use BERT model vocabulary (default 30522). WordPiece finds the longest subword in the vocabulary to split word.\n",
    ">>> ##### **Special tokens: `[PAD]`, `[UNK]`, `[CLS]`, `[SEP]`, `[MASK]`.**\n",
    ">>> ##### **Max length of text: `512`** (The text would be truncated if length of text exceed 512.)\n",
    ">>> ##### For instance, **`\"training\"`** gets split like **`\"train\" \"##ing\"`**\n",
    ">\n",
    ">### **DataLoader**\n",
    ">\n",
    ">>* ##### **Set seed: `42`**\n",
    ">>* ##### **Batch size: `8`**\n",
    ">>* ##### Texts are dynamically padded with **`[PAD]`** to the maximum length of a batch."
   ]
  },
  {
   "cell_type": "code",
   "execution_count": 3,
   "id": "a52aae26-d78f-42c2-b6a8-6dd66b199a04",
   "metadata": {
    "scrolled": true
   },
   "outputs": [
    {
     "data": {
      "application/vnd.jupyter.widget-view+json": {
       "model_id": "6e3903aa75d349be93b8a38f68c3e925",
       "version_major": 2,
       "version_minor": 0
      },
      "text/plain": [
       "Map:   0%|          | 0/40000 [00:00<?, ? examples/s]"
      ]
     },
     "metadata": {},
     "output_type": "display_data"
    },
    {
     "data": {
      "application/vnd.jupyter.widget-view+json": {
       "model_id": "7a2f650a7d8c4127ad5f303c3b08274f",
       "version_major": 2,
       "version_minor": 0
      },
      "text/plain": [
       "Map:   0%|          | 0/10000 [00:00<?, ? examples/s]"
      ]
     },
     "metadata": {},
     "output_type": "display_data"
    },
    {
     "data": {
      "application/vnd.jupyter.widget-view+json": {
       "model_id": "af0611c2aaf0442f999500a1a7ab7e98",
       "version_major": 2,
       "version_minor": 0
      },
      "text/plain": [
       "Map:   0%|          | 0/40000 [00:00<?, ? examples/s]"
      ]
     },
     "metadata": {},
     "output_type": "display_data"
    },
    {
     "data": {
      "application/vnd.jupyter.widget-view+json": {
       "model_id": "6a7168a6cc364c678258c1ef31bf2a87",
       "version_major": 2,
       "version_minor": 0
      },
      "text/plain": [
       "Map:   0%|          | 0/10000 [00:00<?, ? examples/s]"
      ]
     },
     "metadata": {},
     "output_type": "display_data"
    },
    {
     "data": {
      "application/vnd.jupyter.widget-view+json": {
       "model_id": "c90020e5da2e4676ac904e07c74a25ab",
       "version_major": 2,
       "version_minor": 0
      },
      "text/plain": [
       "Map:   0%|          | 0/40000 [00:00<?, ? examples/s]"
      ]
     },
     "metadata": {},
     "output_type": "display_data"
    },
    {
     "data": {
      "application/vnd.jupyter.widget-view+json": {
       "model_id": "388ffd6db4a741f191f1eaa04523f2b0",
       "version_major": 2,
       "version_minor": 0
      },
      "text/plain": [
       "Map:   0%|          | 0/10000 [00:00<?, ? examples/s]"
      ]
     },
     "metadata": {},
     "output_type": "display_data"
    },
    {
     "data": {
      "application/vnd.jupyter.widget-view+json": {
       "model_id": "e8de9582d3694a77b31db762675beb5e",
       "version_major": 2,
       "version_minor": 0
      },
      "text/plain": [
       "Map:   0%|          | 0/40000 [00:00<?, ? examples/s]"
      ]
     },
     "metadata": {},
     "output_type": "display_data"
    },
    {
     "data": {
      "application/vnd.jupyter.widget-view+json": {
       "model_id": "ae1288dca4874656abe0b835b00be1c9",
       "version_major": 2,
       "version_minor": 0
      },
      "text/plain": [
       "Map:   0%|          | 0/10000 [00:00<?, ? examples/s]"
      ]
     },
     "metadata": {},
     "output_type": "display_data"
    },
    {
     "data": {
      "application/vnd.jupyter.widget-view+json": {
       "model_id": "5f2989fd80bd45e3866ce174e5974fda",
       "version_major": 2,
       "version_minor": 0
      },
      "text/plain": [
       "Map:   0%|          | 0/40000 [00:00<?, ? examples/s]"
      ]
     },
     "metadata": {},
     "output_type": "display_data"
    },
    {
     "data": {
      "application/vnd.jupyter.widget-view+json": {
       "model_id": "b823348767164797bafc0896e191727c",
       "version_major": 2,
       "version_minor": 0
      },
      "text/plain": [
       "Map:   0%|          | 0/10000 [00:00<?, ? examples/s]"
      ]
     },
     "metadata": {},
     "output_type": "display_data"
    },
    {
     "name": "stdout",
     "output_type": "stream",
     "text": [
      "I have not read the book so my comments have only to do with the film. I was deeply, deeply impressed and moved by this film. This ranks among the best movies I've seen in the last several years, including \"Y TU MAMA TAMBIEN\", \"ETERNAL SUNSHINE\" and \"PUNCH-DRUNK LOVE\". The film has a tone that is totally original, bizarre, and dreamily beautiful. It is frank, candid, unexpectedly brutalizing... and, just as often, unexpectedly funny, strange... and even (so strange to admit) uplifting. I say strange, because this movie is more hard-core than any American film I've seen since, perhaps, \"Happiness\". And yet it's so much more heartfelt, kind-hearted, and yes, even \"loving\", than that aforementioned hyper-toxic indictment of New Jersey suburbia. \"Mysterious Skin\" has scenes and images that I don't think I'll soon forget. It also has bizarre parallels and clues that didn't occur to me until hours after I'd seen it. SPOILER: For example, The scene where Brian is compelled to slide his hand up into the body cavity of a dead deer. WOW. The context is shattering. The scenes involving pedophilia were unbelievably potent and disturbing. I don't know how Araki managed to shoot these sequences while retaining the innocence of such young, innocent performers. I mean, it comes as close to kiddie-porn as anything I've seen on film. And yet Araki handles it with such grace, strangeness, and \"you-are-there\" subjectivity, there's no way you can dismiss it as pornography. The perfect amount of restraint. The perfect amount of revulsion and confusion mixed with the tragic sexuality of the moment. I can easily see this movie being banned in various places. Oh well, that is the world we live in. Whoever dismisses this film without seeing it, it is their sad loss. This is the wisest, bravest, most honest and heartbreaking portrayal of childhood trauma ever put on film. Joseph Gordon-Levitt is AMAZING in this film. It's like he rose from the world of TV sitcoms to become, all at once, the best young actor working in film today. Seriously. No hyperbole here. He has everything he needs to be the next De Niro. The effortless body language, those impenetrable eyes, his turn-on-a-dime delivery. He is THAT GOOD. I read somewhere, someone comparing him to a young Colin Farrell. Please. The kid's only 22 and he's already 10 times the actor Farrell is. He's so good, in fact, that he could very well be a teen hustler from an HBO documentary. Beyond realism. Levitt completely lives in the \"mysterious skin\" of his character. I'll comment on one other scene, and yeah, I'm gonna SPOIL it, but don't worry, it's not much of a spoiler. This scene really blew me away. Neil (Levitt) has just picked up a John, played by Billy Drago. (You'll probably recognize this guy... he's super-creepy looking, and yet also terrifyingly cool & inscrutable... he played Capone's main henchman Frank Nitti in THE UNTOUCHABLES) He joins the John back at his stark-white apartment, and a scene which seems destined for tension, dread and horror... suddenly becomes beautiful, incredibly sad, and transcendent. To the point where, after this scene, I realized I wasn't just watching a \"cool\" Sundance Indie... I wasn't just watching a Gregg Araki film... I wasn't catching the latest \"trendy indie\" at the Sunset 5 in west Hollywood, surrounded by hipsters and shock-hounds. I was, in fact, witnessing a movie that transcended all of these fashionable labels. It only happens once in a blue moon, but when I saw this film, it definitely happened: I realized I was watching a work of art.\n"
     ]
    }
   ],
   "source": [
    "replacements = {\n",
    "    \"\\x85\": \"...\",  \n",
    "    \"\\x96\": \"-\",        \n",
    "    \"\\x97\": \"—\",\n",
    "    \"\\xa0\": \" \"    \n",
    "}\n",
    "\n",
    "def replace_br(match):\n",
    "    result = match.group(1)\n",
    "    if result in [\".\", \"!\", \"?\", \",\", \")\"]:\n",
    "        return result + \" \"\n",
    "    else:\n",
    "        return \". \"\n",
    "\n",
    "\n",
    "re_hex = re.compile(\"|\".join(key for key in replacements.keys()))\n",
    "raw_data = raw_data.map(\n",
    "    lambda x: {\"text\": [re_hex.sub(lambda match: replacements[match.group(0)], reviews) for reviews in x[\"text\"]]},\n",
    "    batched=True\n",
    ")\n",
    "\n",
    "re_br = re.compile(r'([.!?,)]?)(<br\\s*\\/?>\\s*)+')\n",
    "raw_data = raw_data.map(\n",
    "    lambda x: {\"text\": [re_br.sub(replace_br, reviews) for reviews in x[\"text\"]]},\n",
    "    batched=True\n",
    ")\n",
    "\n",
    "re_space = re.compile(r'([.!?,)])(\\w)')\n",
    "raw_data = raw_data.map(\n",
    "    lambda x: {\"text\": [re_space.sub(r'\\1 \\2', reviews) for reviews in x[\"text\"]]},\n",
    "    batched=True\n",
    ")\n",
    "\n",
    "re_rm_space = re.compile(r'(?<=[.!?,])\\s+(?=[.!?,])')\n",
    "raw_data = raw_data.map(\n",
    "    lambda x: {\"text\": [re_rm_space.sub(\"\", reviews) for reviews in x[\"text\"]]},\n",
    "    batched=True\n",
    ")\n",
    "\n",
    "raw_data = raw_data.map(\n",
    "    lambda x: {\"text\": [reviews.strip() if reviews.strip().endswith(('.', '!', '?')) else reviews.strip() + '.' \n",
    "                        for reviews in x[\"text\"]]},\n",
    "    batched=True\n",
    ")\n",
    "\n",
    "print(raw_data['train']['text'][1])"
   ]
  },
  {
   "cell_type": "code",
   "execution_count": 4,
   "id": "d61a4818-7ba4-4160-b8b4-454b388e604c",
   "metadata": {},
   "outputs": [
    {
     "name": "stdout",
     "output_type": "stream",
     "text": [
      "Minimum review \n",
      "Index : 16887\n",
      "Length : 43\n",
      "Content : ... my children are laughing. but i do not!\n",
      "\n",
      "Maximum review \n",
      "Index : 38221\n",
      "Length : 14105\n",
      "Content : ***SPOILERS*** ***SPOILERS*** The first Godzilla movie in the third movie series, whereas GODZILLA VS. DESTOROYAH, the previous entry, aptly ended the second series. What else can I say? Well, let's break it down. I once liked the 2nd series of Godzilla movies (1984-1995), even though I found something annoying about those movies (as either the bad or good guy, Godzilla was so sympathetic that the human characters came off as obnoxious). Then, in 1995, along came a movie called GAMERA: GUARDIAN OF THE UNIVERSE and its two successful sequels, all directed by master filmmaker Shuusuke Kaneko, who singlehandedly changed the face of Japanese monster movies forever. I was spoiled!!! The Series 2 Godzilla movies were suddenly looked down as half-hearted, heavy-handed, auto-piloted and lazy attempts at recreating the \"original\" Godzilla, and end up being an insult to the memory of genre masters Ishirou Honda and Eiji Tsuburaya. GAMERA 3: THE AWAKENING OF IRIS, released the same year as this film, was simply incredible. Once Hollywood moviegoers saw that movie, they would never look at Japanese monster movies the same way again. Then, along came Tri-Star's 1998 GINO (Godzilla In Name Only), which was understandably met with bitter hatred by true Godzilla fans the world over. The worst portrayal of Godzilla seen by the human eye, making Marvel's 70s comics and Hanna-Barbera's cartoon look better. Then, MOTHRA 3, released later that year, bombed at the box office. Toho was in deep crap. They felt as though Godzilla was about to lose his fans, because of this red-blooded American box-office disaster, so to make up for it, they made this movie, GOJIRA NI-SEN MIRENIAMU (Godzilla 2000: Millennium), which was a \"take that\" to GINO. This movie is definitely better than GINO, which isn't saying much. Is it the BEST Godzilla movie? Nope, not by a long shot. In fact, it quickly bombed at the box office in Japan (starting out at 4th place, and sinking to 8th in the second week!). A lot of Godzilla fans in Japan didn't like the movie. Is it entertaining? Not if you're spoiled by the Heisei Gamera trilogy, but if you don't take the movie too seriously, yes, it is very entertaining. In fact, I hadn't been entertained like this since TERROR OF MECHAGODZILLA (Toho; 1975), and despite the movie's MAJOR flaws, GODZILLA 2000: MILLENNIUM is still very entertaining. First of all, Godzilla has never looked better! His design has been in a rut since 1989, where his design was great, but once they stuck to it, he began to look slapped-together in each new film, but finally, a NEW Godzilla design! As Riverdancer Michael Flatley once said, \"It's important to change, because if you stagnate, you die.\" I think this is a very good change, and one that stays true to Godzilla's spirit. Godzilla's design is a streamlined version of the Kin-Goji design from KING KONG VS. GODZILLA, with jagged DARK CRYSTAL-style dorsal fins that give him an evil look. I was neither bothered by the orange-colored Radioactive Heat Beam (most fans are used to blue), nor Godzilla's green tone (this is the first time Toho made Godzilla officially green, whereas he had an ambiguous green-gray tone). I was very happy with this Godzilla. For the first time, Godzilla was played by former JAC stuntman Tsutomu Kitagawa (a veteran of Toei's Sentai Series), who just started out in the Toho Monster genre (he played King Ghidorah in MOTHRA 3). The UFO and the Millennian Alien/Orga were excellent and unique ideas (which the previous movie series wouldn't have allowed, for fear of being \"over the top,\" but this was the cleverest portrayal of aliens in a Godzilla film), but half the time, they are poorly handled on film. That brings us to the story part. The Millennian, Toho's first CGI monster, is a really bizarre creation, and Orga reminds me of GINO (the intention) as if over-mutated by comic-book artist Todd McFarlane! Definitely not your average Japanese monster! The story has great ideas, and a more \"realistic\" feel than the previous Godzilla movies since the 90s. However, the main problem is that things were not spelled out for the viewer (mostly because production was rushed in the second half). As a result, lot of people did not know what was going on. After reading about the plot/story and having purchased both the Official Movie Compendium (which has TONS of useful info that Americans don't know about the film) and the manga adaptation by Mondo Takimura (which is a MUCH better version of the film than the film itself!), I've seen critics/reviewers make up their own conclusion. Read the plot below so I'll help out. Throughout the film, there are parodies of both GINO and INDEPENDENCE DAY (one scene had a taxi driver in Shinjuku getting out of his taxi, staring dumbfounded at the UFO while his car gets smashed by another! Part of this was cut out in the US version; It shouldn't have been)! As of 1999, the special effects are probably the best in any Toho Godzilla film since Teruyoshi Nakano's breathtaking work in the 1984 GODZILLA. Kenji Suzuki's FX are a vast improvement over Kouichi Kawakita's work in the films from 1989-1995. This is his second FX direction job (his first was MOTHRA 3). Definitely not up to Shinji Higuchi's work in the Heisei Gamera trilogy (which Toho had been trying to keep up with), but definitely not too shabby for a Toho Godzilla film! The downside is that some of the FX looked rushed (especially in the climactic fight scene between Godzilla and Orga; Toho was definitely behind schedule). As for the human characters, after 1975 (and probably 1984), we FINALLY get characters from all walks of life! Thus, they may not be the BEST characters, but very amusing ones (and thankfully, not too many of them, whereas previous Godzilla movies had byzantine amounts of important characters you didn't care for). Takehiro Murata, no stranger to Godzilla films (he appeared in 1992's GODZILLA VS. MOTHRA and 1995's GODZILLA VS. DESTOROYAH), takes his first lead Godzilla film role as Yuuji Shinoda, who runs GPN (Godzilla Prediction Network) with his little daughter Io (Mayu Suzuki), and wants to study Godzilla to discover the secrets to life. Actress Naomi Nishida very well plays the part of O-Parts magazine photographer Yuuki Ichinose, who joins GPN to get pictures of Godzilla for the magazine. TV & movie heartthrob Hiroshi Abe totally steals the show as the ruthless Mitsuo Katagiri, who runs CCI (Crisis Control Intelligence Agency), the faction that wants Godzilla destroyed, period. Godzilla's rooftop confrontation with Abe at the film's end is a shining moment! And there's actor and longtime Godzilla fan Shirou Sano as Shirou Miyasaka, Shinoda's old college buddy/CCI executive, who provides a conflict between the two factions. The music by Takayuki Hattori is an improvement over his own score for GODZILLA VS. SPACE GODZILLA, but in the film, it was done absolutely no justice. When one listens to the CD soundtrack, one finds that some of the best tracks aren't even used in the film, thus Toho's music editors do the same slapdash job of cutting & pasting tracks all over the place, but some of the important tracks are left in the right place. And as much as it livens the film, Toho's throwing in a token stock track of Akira Ifukube's \"Godzilla Theme\" (just to tell us that this is a Godzilla film) does detract from the film. It seems the fogeys over at Toho have a problem with simply doing new arrangements of Ifukube's music (cost-effective, maybe?). Then, there's Takao Ookawara directing his last Godzilla film before quitting the series. Ookawara doesn't care much for Godzilla, though his work is actually okay. He's better than Kazuki Oomori (not only the worst Godzilla director, in my opinion, but he is completely embarrassed with monsters and stuff), though. And last, but not least, Tri-Star's US English-language version. Well, I've seen the Japanese version on tape, and when comparing it with the US version, the Japanese version actually makes more sense. Some of the US editing patronizes the original material by cutting out some important scenes and changing parts of the dialogue for PC reasons (like changing \"Organizer G1\" to \"Regenerator G1,\" and editing out all references to \"Millennium\"). However, the US version makes up for it with tighter pacing and some really fun dialogue, not to mention one bit of profanity (\"Nice try, a**hole!\")! About time Godzilla movies started growing up! The US music by J. Peter Robinson is okay, but really cheesy most of the time (noticably, much of the score was recycled from the 1998 TV movie, GARGANTUA, which was made by Fox to one-up GINO). Hattori's original score is about 50-75% intact, though. Robinson actually rearranges Ifukube music with two tracks, the best in the scene where Orga makes his appearance, the worst being the scene in the end (after which, said token stock Ifukube track is repeated before cuing the complete original ending credits track). Speaking of which, the worst part of the Americanization was the tacky \"THE ? END\" title card at the end of the theatrical version of the film (blessedly removed for TV/Video/DVD versions). I was really embarrassed. Speaking of embarrassing, a lot of people in the US seem to have lost sleep over the closing dialogue, the last part of which is a direct translation in the US version: \"Godzilla is ... inside all of us!\" And yes, Japanese fans were pretty embarrassed with that scene! I didn't mind it, though. The US version is still fun to sit through, and still manages to have respect for the original film. I did hear, though, that the US version was put together at the last minute (to meet a tight deadline), which explains a lot. Before I close this review, well, everyone pretty much knows the plot, but here's my version anyway: It's basically Godzilla crossed with QUATERMASS AND THE PIT. This movie is a direct follow-up to the original 1954 GODZILLA, but HOW Godzilla came back is unexplained (a MAJOR weakness for the film). For what it's worth, GPN (Godzilla Prediction Network) led by Yuuji Shinoda and his daughter Io, try to predict Godzilla's city attacks so that he can evacuate precious lives in advance. In foggy Nemuro, Godzilla crunches a fishing ship with his powerful jaws in front of a lighthouse, smashes a bar, attacks a city and for some reason, destroys a power station (all this being among the best highlights of the film). According to Shinoda (in the Japanese version), \"Does Godzilla hate the energy that mankind produces?\" Meanwhile, CCI (Crisis Control Intelligence Agency), led by Mitsuo Katagiri, discovers a HUGE rock fragment beneath the Japan Trench, and try to transport it, but the rock transports ITSELF by floating to the surface of the ocean! CCI member Shirou Miyasaka suggests that the rock might contain an alien life form, and to their surprise, it does some weird things like stand right side up over the ocean. At the same time, despite Shinoda's warnings, Katagiri, CCI and the Japan Self Defense Forces prepare to attack Godzilla in Tokaimura (where, at the same time of filming, a nuclear accident happened in real life) with a new set of super-missiles called Full Metal Missiles (Yes, they're called that in the Japanese version! No doubt a tribute to Stanley Kubrick's FULL METAL JACKET). The weird thing is that when Godzilla appears, he does absolutely nothing! He just lets the JSDF hit him with everything but the kitchen sink, to no good effect, although the Full Metal Missiles did kinda' do a number on him. Just then, Miyasaka finds that the giant rock follows the sun, so it starts to fly away and heads toward Godzilla, the two titans shoot rays at each other, and in the process, Godzilla is defeated, and the rock is revealed to be a huge, solar-powered metallic UFO! It flies to Shinjuku, where it lands on a network building (same building as O-Parts Magazine!), and starts draining info from the Internet so that it can find out more about Godzilla (it discovered that Godzilla has quick-regeneration process; Upon further study with Miyasaka, Shinoda calls it Organizer G1). It also starts transmitting message words such as \"Millennium,\" \"Kingdom,\" etc. Come evening, Katagiri even suggested blowing up the building with the UFO still on it (where a crazy mix-up gets Shinoda into DIE HARD-style hijinks), but guess what? The UFO stands triumphant and destroys the rest of the building! Shinoda emerges a survivor, and shows everyone why the UFO wants Godzilla: The Millennium Aliens (Millennians) want to start an empire on Earth by converting our planet's air to make it more suitable for them. When they crashed on Earth in prehistoric times, they lost their solid composure and were reduced to anti-matter in the process. They need Godzilla's cells to regenerate their bodies. Then, Godzilla shows up from Tokyo Bay, and has a fight with the UFO, which overpowers him (telepathically using underground cables to lasso him) and clones Organizer G1 from his body, thus, the Millennians emerge from the UFO, regenerating into their original form, a single giant squidlike alien! But unfortunately, Godzilla's DNA overtook the alien's shape and causes a painful Hulk-like transformation, thus Orga (named from \"Organizer G1\" - Get it?) was the tragic result. After Godzilla trashes the UFO, Orga proceeds to beat him silly (also telepathically controlling what's left of the UFO to bash him around with it!). Can Godzilla destroy a giant alien mutant with many times his own healing speed? Whew! That was a lengthy review! Well, I still think that the next Godzilla movie, GODZILLA X MEGAGUIRUS: THE G ANNIHILATION STRATEGY, is even better, and that it was the type of movie Toho should've made (and the movie that should've been shown in US theaters)! Nevertheless, enjoy GODZILLA 2000: MILLENNIUM, either in its more straightforward Japanese version and/or the campy-but-fun US version! A VERY flawed, yet entertaining step back in the right direction. \"GOJIRAAAAAAAAAAAAAAAAAAAAAAAAAAAAAAAAAAAAAAAAAAAAAA!!!!!!!!!!\".\n"
     ]
    }
   ],
   "source": [
    "num = list(map(lambda x : len(x), raw_data['train']['text']))\n",
    "min_index = np.argmin(num)\n",
    "max_index = np.argmax(num)\n",
    "\n",
    "print(f\"\"\"Minimum review \\nIndex : {min_index}\\nLength : {min(num)}\\nContent : {raw_data['train'][int(min_index)]['text']}\\n\"\"\")\n",
    "print(f\"\"\"Maximum review \\nIndex : {max_index}\\nLength : {max(num)}\\nContent : {raw_data['train'][int(max_index)]['text']}\"\"\")"
   ]
  },
  {
   "cell_type": "markdown",
   "id": "59d65ab9-14de-4ddf-8416-00a8f09ef659",
   "metadata": {},
   "source": [
    "<font face=Helvetica>  \n",
    "    \n",
    "# **Model**\n",
    "\n",
    ">### **Pre-training BERT**\n",
    ">\n",
    ">>* ##### **Masked Language Model (MLM)**\n",
    ">>> ##### MLM randomly turned words into a masked token **`[MASK]`** in a sequence. Sequences are embedded in BERT model to train for predicting the correct words of masked tokens. MLM presents a good contextual understanding of an entire sequence.\n",
    ">>> ##### **Masking probability: `0.15`**\n",
    ">>* ##### **Next Sentence Prediction (NSP)**\n",
    ">>> ##### Movie review texts are split into sentences. If the sentence length is less than the **`threshold`**, the sentence merges with the next sentence until the sentence length more than the threshold. one of sentences is randomly picked as **`sentence A`** in each movie review text. The probability that **`sentence B`** is the next sentence of sentence A is 50%. Otherwise, it is another movie review sentence. The relation between sentence A and B is **`labeled`** as whether sentence B is the next sentence of sentence A. The pairs of sentences A and B are embedded in BERT model to train for predicting the relation. NSP presents a good understanding of the relation of sentences.\n",
    ">>> ##### **Threshold: `250`**\n",
    ">>> ##### **label: `1: \"IsNextSentence\"`** and **`0: \"NotNextSentence\"`**\n",
    ">>* ##### **Training arguments:**\n",
    ">>> ##### **AdamW optimizer:**\n",
    ">>>> ##### **Betas: `(0.9, 0.999)`**  The decay rates of the first and second-order moment of the optimizer.\n",
    ">>>> ##### **Epsilon: `1e-06`**\n",
    ">>>> ##### **Learning rate: `1e-05`**\n",
    ">>> ##### **Epoch: `10`**\n",
    ">>> ##### **`Linear`** learning rate schedule with no warm-up steps.\n",
    ">>> ##### **Mixed precision: `FP16`**\n",
    ">### **Evaluation metrics**\n",
    ">\n",
    ">>* ##### **Confusion Matrix:**\n",
    ">>> ##### **Accuracy (ACC):**\n",
    ">>> ##### $$ACC = \\frac{TP\\,+\\,TN}{TP\\,+\\,TN\\,+\\,FP\\,+\\,FN}$$\n",
    ">>> ##### **Precision:** The fraction of actual positive instances among the predicted positive instances.\n",
    ">>> ##### $$Precision = \\frac{TP}{TP\\,+\\,FP}$$\n",
    ">>> ##### **Recall:** The fraction of actual positive instances that were predicted as positive instances.\n",
    ">>> ##### $$Recall = \\frac{TP}{TP\\,+FN}$$\n",
    ">>> ##### **$F_1$ score:**  The harmonic mean of precision and recall.\n",
    ">>> ##### $$F_1 = \\frac{2TP}{2TP\\,+\\,FP\\,+\\,FN}$$\n",
    ">>> <table align=\"left\" width=\"70%\">\n",
    ">>>  <tr align=\"left\">\n",
    ">>>    <th></th><th>Predicted positive</th><th>Predicted negative<br /></th>\n",
    ">>>  </tr>\n",
    ">>>  <tr align=\"left\">\n",
    ">>>    <th>Actual positive</th><td>True positive (TP)</td><td>False negative (FN)<br /></td>\n",
    ">>>  </tr>\n",
    ">>>  <tr align=\"left\">\n",
    ">>>    <th>Actual negative</th><td>False positive (FP)</td><td>True negative (TN)<br /></td>\n",
    ">>>  </tr>\n",
    ">>> </table><br /><br /><br /><br />\n",
    "\n",
    ">>> "
   ]
  },
  {
   "cell_type": "code",
   "execution_count": 5,
   "id": "8cc8a729-37d3-41d0-ac65-708db01502f5",
   "metadata": {},
   "outputs": [],
   "source": [
    "tokenizer = BertTokenizerFast.from_pretrained(\"bert-base-uncased\")\n",
    "\n",
    "model_config = BertConfig(\n",
    "    vocab_size=tokenizer.vocab_size,\n",
    "    hidden_size=768,\n",
    "    num_attention_heads=12,\n",
    "    num_hidden_layers=12,\n",
    "    max_position_embeddings=512  \n",
    ")\n",
    "\n",
    "model = BertForPreTraining.from_pretrained(\"bert-base-uncased\")\n",
    "data_collator = DataCollatorForLanguageModeling(tokenizer=tokenizer, mlm=True)"
   ]
  },
  {
   "cell_type": "code",
   "execution_count": 6,
   "id": "1567bcfa-5ad9-4060-9159-452f6f75ebb7",
   "metadata": {},
   "outputs": [
    {
     "data": {
      "text/plain": [
       "BertTokenizerFast(name_or_path='bert-base-uncased', vocab_size=30522, model_max_length=512, is_fast=True, padding_side='right', truncation_side='right', special_tokens={'unk_token': '[UNK]', 'sep_token': '[SEP]', 'pad_token': '[PAD]', 'cls_token': '[CLS]', 'mask_token': '[MASK]'}, clean_up_tokenization_spaces=True),  added_tokens_decoder={\n",
       "\t0: AddedToken(\"[PAD]\", rstrip=False, lstrip=False, single_word=False, normalized=False, special=True),\n",
       "\t100: AddedToken(\"[UNK]\", rstrip=False, lstrip=False, single_word=False, normalized=False, special=True),\n",
       "\t101: AddedToken(\"[CLS]\", rstrip=False, lstrip=False, single_word=False, normalized=False, special=True),\n",
       "\t102: AddedToken(\"[SEP]\", rstrip=False, lstrip=False, single_word=False, normalized=False, special=True),\n",
       "\t103: AddedToken(\"[MASK]\", rstrip=False, lstrip=False, single_word=False, normalized=False, special=True),\n",
       "}"
      ]
     },
     "execution_count": 6,
     "metadata": {},
     "output_type": "execute_result"
    }
   ],
   "source": [
    "tokenizer"
   ]
  },
  {
   "cell_type": "code",
   "execution_count": 7,
   "id": "780d1a0c-fe1c-4c9e-a891-828764d9ea41",
   "metadata": {},
   "outputs": [
    {
     "data": {
      "text/plain": [
       "BertConfig {\n",
       "  \"attention_probs_dropout_prob\": 0.1,\n",
       "  \"classifier_dropout\": null,\n",
       "  \"hidden_act\": \"gelu\",\n",
       "  \"hidden_dropout_prob\": 0.1,\n",
       "  \"hidden_size\": 768,\n",
       "  \"initializer_range\": 0.02,\n",
       "  \"intermediate_size\": 3072,\n",
       "  \"layer_norm_eps\": 1e-12,\n",
       "  \"max_position_embeddings\": 512,\n",
       "  \"model_type\": \"bert\",\n",
       "  \"num_attention_heads\": 12,\n",
       "  \"num_hidden_layers\": 12,\n",
       "  \"pad_token_id\": 0,\n",
       "  \"position_embedding_type\": \"absolute\",\n",
       "  \"transformers_version\": \"4.42.3\",\n",
       "  \"type_vocab_size\": 2,\n",
       "  \"use_cache\": true,\n",
       "  \"vocab_size\": 30522\n",
       "}"
      ]
     },
     "execution_count": 7,
     "metadata": {},
     "output_type": "execute_result"
    }
   ],
   "source": [
    "model_config"
   ]
  },
  {
   "cell_type": "code",
   "execution_count": 8,
   "id": "50536e3a-fa06-4ab2-ab61-2778070640b6",
   "metadata": {},
   "outputs": [
    {
     "data": {
      "text/plain": [
       "<bound method Module.parameters of BertForPreTraining(\n",
       "  (bert): BertModel(\n",
       "    (embeddings): BertEmbeddings(\n",
       "      (word_embeddings): Embedding(30522, 768, padding_idx=0)\n",
       "      (position_embeddings): Embedding(512, 768)\n",
       "      (token_type_embeddings): Embedding(2, 768)\n",
       "      (LayerNorm): LayerNorm((768,), eps=1e-12, elementwise_affine=True)\n",
       "      (dropout): Dropout(p=0.1, inplace=False)\n",
       "    )\n",
       "    (encoder): BertEncoder(\n",
       "      (layer): ModuleList(\n",
       "        (0-11): 12 x BertLayer(\n",
       "          (attention): BertAttention(\n",
       "            (self): BertSdpaSelfAttention(\n",
       "              (query): Linear(in_features=768, out_features=768, bias=True)\n",
       "              (key): Linear(in_features=768, out_features=768, bias=True)\n",
       "              (value): Linear(in_features=768, out_features=768, bias=True)\n",
       "              (dropout): Dropout(p=0.1, inplace=False)\n",
       "            )\n",
       "            (output): BertSelfOutput(\n",
       "              (dense): Linear(in_features=768, out_features=768, bias=True)\n",
       "              (LayerNorm): LayerNorm((768,), eps=1e-12, elementwise_affine=True)\n",
       "              (dropout): Dropout(p=0.1, inplace=False)\n",
       "            )\n",
       "          )\n",
       "          (intermediate): BertIntermediate(\n",
       "            (dense): Linear(in_features=768, out_features=3072, bias=True)\n",
       "            (intermediate_act_fn): GELUActivation()\n",
       "          )\n",
       "          (output): BertOutput(\n",
       "            (dense): Linear(in_features=3072, out_features=768, bias=True)\n",
       "            (LayerNorm): LayerNorm((768,), eps=1e-12, elementwise_affine=True)\n",
       "            (dropout): Dropout(p=0.1, inplace=False)\n",
       "          )\n",
       "        )\n",
       "      )\n",
       "    )\n",
       "    (pooler): BertPooler(\n",
       "      (dense): Linear(in_features=768, out_features=768, bias=True)\n",
       "      (activation): Tanh()\n",
       "    )\n",
       "  )\n",
       "  (cls): BertPreTrainingHeads(\n",
       "    (predictions): BertLMPredictionHead(\n",
       "      (transform): BertPredictionHeadTransform(\n",
       "        (dense): Linear(in_features=768, out_features=768, bias=True)\n",
       "        (transform_act_fn): GELUActivation()\n",
       "        (LayerNorm): LayerNorm((768,), eps=1e-12, elementwise_affine=True)\n",
       "      )\n",
       "      (decoder): Linear(in_features=768, out_features=30522, bias=True)\n",
       "    )\n",
       "    (seq_relationship): Linear(in_features=768, out_features=2, bias=True)\n",
       "  )\n",
       ")>"
      ]
     },
     "execution_count": 8,
     "metadata": {},
     "output_type": "execute_result"
    }
   ],
   "source": [
    "model.parameters"
   ]
  },
  {
   "cell_type": "code",
   "execution_count": 9,
   "id": "52441b41-57c5-465e-b94c-d6251a6cf2b6",
   "metadata": {},
   "outputs": [],
   "source": [
    "import random\n",
    "from itertools import chain\n",
    "\n",
    "def merge_short_sentences(sentences, threshold):\n",
    "    merged_sentences = []\n",
    "    temp_sentence = \"\"\n",
    "    \n",
    "    for sentence in sentences:\n",
    "        if len(sentence) < threshold:\n",
    "            if temp_sentence:\n",
    "                temp_sentence += \" \" + sentence\n",
    "                \n",
    "                if len(temp_sentence) > threshold:\n",
    "                    merged_sentences.append(temp_sentence)\n",
    "                    temp_sentence = \"\"\n",
    "            else:\n",
    "                temp_sentence = sentence\n",
    "        else:\n",
    "            if temp_sentence:\n",
    "                merged_sentences.append(temp_sentence + \" \" + sentence)\n",
    "                temp_sentence = \"\"\n",
    "            else: \n",
    "                merged_sentences.append(sentence)\n",
    "    \n",
    "    if temp_sentence:\n",
    "        if merged_sentences == []:\n",
    "            merged_sentences.append(temp_sentence)\n",
    "        else:\n",
    "            merged_sentences[-1] += \" \" + temp_sentence\n",
    "    \n",
    "    return merged_sentences\n",
    "\n",
    "def sentence_pair(examples, threshold):\n",
    "    total_sent = list(chain(*list(map(lambda x: merge_short_sentences(re.split(r'(?<=[.!?;,)])\\s+|(?<=[.!?;,)][\"])\\s+', x), threshold), examples['text']))))\n",
    "    total_sent = list(filter(None, total_sent))\n",
    "    \n",
    "    sentence_a = []\n",
    "    sentence_b = []\n",
    "    labels = []\n",
    "    \n",
    "    for text in examples['text']:\n",
    "        sentences = [\n",
    "            sentence.strip() for sentence in merge_short_sentences(re.split(r'(?<=[.!?;,)])\\s+|(?<=[.!?;,)][\"])\\s+', text), threshold) if sentence != ''\n",
    "        ]\n",
    "        num_sentences = len(sentences)\n",
    "        if num_sentences > 1:\n",
    "            start = random.randint(0, num_sentences-2)\n",
    "            # 50/50 whether is IsNextSentence or NotNextSentence\n",
    "            if random.random() >= 0.5:\n",
    "                # this is IsNextSentence\n",
    "                sentence_a.append(sentences[start])\n",
    "                sentence_b.append(sentences[start+1])\n",
    "                labels.append(0)\n",
    "            else:\n",
    "                index = random.randint(0, len(total_sent)-1)\n",
    "                # this is NotNextSentence\n",
    "                sentence_a.append(sentences[start])\n",
    "                sentence_b.append(total_sent[index].strip())\n",
    "                labels.append(1)\n",
    "\n",
    "    return {\n",
    "        \"sentence_a\": sentence_a,\n",
    "        \"sentence_b\": sentence_b,\n",
    "        \"labels\": labels\n",
    "    }\n",
    "\n",
    "def tokenize(examples, max_length=512):\n",
    "    result = tokenizer(\n",
    "        examples[\"sentence_a\"],\n",
    "        examples[\"sentence_b\"],\n",
    "        add_special_tokens=True,\n",
    "        max_length=max_length,\n",
    "        truncation=True,\n",
    "        return_overflowing_tokens=True\n",
    "    )\n",
    "    \n",
    "    sample_map = result.pop(\"overflow_to_sample_mapping\")\n",
    "    result[\"next_sentence_label\"] = [examples[\"labels\"][i] for i in sample_map]\n",
    "    \n",
    "    return result\n",
    "\n"
   ]
  },
  {
   "cell_type": "code",
   "execution_count": 10,
   "id": "78867bdf-52fe-4143-8efd-a191c13cb024",
   "metadata": {},
   "outputs": [
    {
     "data": {
      "text/plain": [
       "<torch._C.Generator at 0x7e16b27311f0>"
      ]
     },
     "execution_count": 10,
     "metadata": {},
     "output_type": "execute_result"
    }
   ],
   "source": [
    "def seed_worker(worker_id):\n",
    "    worker_seed = torch.initial_seed() % 2**32\n",
    "    numpy.random.seed(worker_seed)\n",
    "    random.seed(worker_seed)\n",
    "\n",
    "g = torch.Generator()\n",
    "g.manual_seed(seed)"
   ]
  },
  {
   "cell_type": "code",
   "execution_count": 11,
   "id": "3d1e258b-c8a3-4e4a-a879-61310f8f7cdf",
   "metadata": {},
   "outputs": [
    {
     "data": {
      "application/vnd.jupyter.widget-view+json": {
       "model_id": "7e67ca1052af47e39a6152618f08d91e",
       "version_major": 2,
       "version_minor": 0
      },
      "text/plain": [
       "Map:   0%|          | 0/40000 [00:00<?, ? examples/s]"
      ]
     },
     "metadata": {},
     "output_type": "display_data"
    },
    {
     "data": {
      "application/vnd.jupyter.widget-view+json": {
       "model_id": "56d4979ac85e45ee919270bbf9e7e9cf",
       "version_major": 2,
       "version_minor": 0
      },
      "text/plain": [
       "Map:   0%|          | 0/10000 [00:00<?, ? examples/s]"
      ]
     },
     "metadata": {},
     "output_type": "display_data"
    },
    {
     "data": {
      "application/vnd.jupyter.widget-view+json": {
       "model_id": "b53ec24da99844ceb1261449587fa27c",
       "version_major": 2,
       "version_minor": 0
      },
      "text/plain": [
       "Map:   0%|          | 0/35379 [00:00<?, ? examples/s]"
      ]
     },
     "metadata": {},
     "output_type": "display_data"
    },
    {
     "data": {
      "application/vnd.jupyter.widget-view+json": {
       "model_id": "2cb5fdf2af9145b58939720e706a85ce",
       "version_major": 2,
       "version_minor": 0
      },
      "text/plain": [
       "Map:   0%|          | 0/8805 [00:00<?, ? examples/s]"
      ]
     },
     "metadata": {},
     "output_type": "display_data"
    }
   ],
   "source": [
    "train_data = raw_data['train'].shuffle(seed=seed)\n",
    "test_data = raw_data['test'].shuffle(seed=seed)\n",
    "\n",
    "sentence_pair_train = train_data.map(\n",
    "    lambda x: sentence_pair(x, threshold=250), \n",
    "    batched=True,\n",
    "    remove_columns=train_data.column_names\n",
    ")\n",
    "\n",
    "sentence_pair_test = test_data.map(\n",
    "    lambda x: sentence_pair(x, threshold=250), \n",
    "    batched=True,\n",
    "    remove_columns=test_data.column_names\n",
    ")\n",
    "\n",
    "tokenized_train = sentence_pair_train.map(\n",
    "    tokenize,\n",
    "    batched=True,\n",
    "    remove_columns=sentence_pair_train.column_names\n",
    ")\n",
    "\n",
    "tokenized_test = sentence_pair_test.map(\n",
    "    tokenize,\n",
    "    batched=True,\n",
    "    remove_columns=sentence_pair_test.column_names\n",
    ")\n",
    "\n",
    "train_dataloader = DataLoader(\n",
    "    tokenized_train,\n",
    "    shuffle=True,\n",
    "    batch_size=8,\n",
    "    collate_fn=data_collator,\n",
    "    worker_init_fn=seed_worker,\n",
    "    generator=g,\n",
    "    pin_memory=True\n",
    ")\n",
    "test_dataloader = DataLoader(\n",
    "    tokenized_test,\n",
    "    batch_size=8,\n",
    "    collate_fn=data_collator,\n",
    "    worker_init_fn=seed_worker,\n",
    "    generator=g,\n",
    "    pin_memory=True\n",
    ")\n"
   ]
  },
  {
   "cell_type": "code",
   "execution_count": 12,
   "id": "00ca698c-d861-42a9-b4e2-cf514264a70c",
   "metadata": {
    "scrolled": true
   },
   "outputs": [
    {
     "name": "stdout",
     "output_type": "stream",
     "text": [
      "{'input_ids': tensor([[  101,  2027,  2298,  ...,     0,     0,     0],\n",
      "        [  101,  2191,   103,  ...,     0,     0,     0],\n",
      "        [  101,  2001,  5341,  ...,     0,     0,     0],\n",
      "        ...,\n",
      "        [  101,  2027,  1005,  ...,     0,     0,     0],\n",
      "        [  101,  2005, 10334,  ...,     0,     0,     0],\n",
      "        [  101,  2012,  2034,  ...,     0,     0,     0]]), 'token_type_ids': tensor([[0, 0, 0,  ..., 0, 0, 0],\n",
      "        [0, 0, 0,  ..., 0, 0, 0],\n",
      "        [0, 0, 0,  ..., 0, 0, 0],\n",
      "        ...,\n",
      "        [0, 0, 0,  ..., 0, 0, 0],\n",
      "        [0, 0, 0,  ..., 0, 0, 0],\n",
      "        [0, 0, 0,  ..., 0, 0, 0]]), 'attention_mask': tensor([[1, 1, 1,  ..., 0, 0, 0],\n",
      "        [1, 1, 1,  ..., 0, 0, 0],\n",
      "        [1, 1, 1,  ..., 0, 0, 0],\n",
      "        ...,\n",
      "        [1, 1, 1,  ..., 0, 0, 0],\n",
      "        [1, 1, 1,  ..., 0, 0, 0],\n",
      "        [1, 1, 1,  ..., 0, 0, 0]]), 'next_sentence_label': tensor([1, 1, 1, 0, 0, 1, 1, 0]), 'labels': tensor([[-100, -100, -100,  ..., -100, -100, -100],\n",
      "        [-100, -100, 2008,  ..., -100, -100, -100],\n",
      "        [-100, -100, -100,  ..., -100, -100, -100],\n",
      "        ...,\n",
      "        [-100, -100, -100,  ..., -100, -100, -100],\n",
      "        [-100, -100, -100,  ..., -100, -100, -100],\n",
      "        [-100, -100, -100,  ..., -100, -100, -100]])}\n",
      "\n",
      "['[CLS]', 'they', 'look', 'down', 'right', 'horrible', ',', 'but', 'still', '[MASK]', '[MASK]', 'flash', 'animation', '.', 'i', 'don', \"'\", 't', '[MASK]', 'whose', 'proposals', 'it', 'was', 'to', 'use', 'sho', '##ddy', 'special', 'effects', ',', 'when', 'weights', 'actually', '[MASK]', 'some', 'great', 'ones', '.', 'at', 'least', ',', 'the', 'sets', 'are', 'amazing', '[MASK]', 'does', 'this', '[MASK]', 'make', 'fun', 'of', 'michael', 'bay', 'or', 'jerry', 'br', '##uck', '##heimer', '?', '[SEP]', 'this', 'was', 'nothing', 'but', 'a', 'horrible', 'attempt', 'at', '.', '.', '.', '[MASK]', '.', '.', '.', 'i', 'just', 'don', \"'\", 't', 'know', 'what', '.', 'oh', 'wait', '[MASK]', 'i', 'know', '.', '.', '.', 'spend', 'your', 'money', 'on', 'this', 'movie', 'so', 'i', 'make', 'a', 'profit', 'by', 'making', '[MASK]', 'cover', 'eye', 'catching', 'and', 'the', 'summary', '[MASK]', '.', 'the', 'characters', 'acting', 'was', '[MASK]', '.', 'i', 'like', 'ron', 'per', '##lman', '.', '[SEP]', '[PAD]', '[PAD]', '[PAD]', '[PAD]', '[PAD]', '[PAD]', '[PAD]', '[PAD]', '[PAD]', '[PAD]', '[PAD]', '[PAD]', '[PAD]', '[PAD]', '[PAD]', '[PAD]', '[PAD]', '[PAD]', '[PAD]', '[PAD]', '[PAD]', '[PAD]', '[PAD]', '[PAD]', '[PAD]', '[PAD]', '[PAD]', '[PAD]', '[PAD]', '[PAD]', '[PAD]', '[PAD]', '[PAD]', '[PAD]', '[PAD]', '[PAD]', '[PAD]', '[PAD]', '[PAD]', '[PAD]', '[PAD]', '[PAD]', '[PAD]', '[PAD]', '[PAD]', '[PAD]', '[PAD]', '[PAD]', '[PAD]', '[PAD]']\n"
     ]
    }
   ],
   "source": [
    "example = next(iter(train_dataloader))\n",
    "print(f'''{example}\\n\\n{tokenizer.convert_ids_to_tokens(example[\"input_ids\"][0])}''')"
   ]
  },
  {
   "cell_type": "code",
   "execution_count": 13,
   "id": "f71c014d-0a33-4e77-a47f-4ab6307d4b1d",
   "metadata": {},
   "outputs": [],
   "source": [
    "decay_parameters = get_parameter_names(model, [nn.LayerNorm])\n",
    "decay_parameters = [name for name in decay_parameters if \"bias\" not in name]\n",
    "optimizer_grouped_parameters = [\n",
    "    {\n",
    "        \"params\": [p for n, p in model.named_parameters() if n in decay_parameters],\n",
    "        \"weight_decay\": 0.001,\n",
    "    },\n",
    "    {\n",
    "        \"params\": [p for n, p in model.named_parameters() if n not in decay_parameters],\n",
    "        \"weight_decay\": 0.0,\n",
    "    },\n",
    "]\n",
    "\n",
    "optimizer_kwargs = {\n",
    "    \"betas\": (0.9, 0.999),\n",
    "    \"eps\": 1e-06,\n",
    "}\n",
    "optimizer_kwargs[\"lr\"] = 1e-05\n",
    "adamW_bnb_optim = bnb.optim.AdamW8bit(\n",
    "    optimizer_grouped_parameters,\n",
    "    betas=optimizer_kwargs['betas'],\n",
    "    eps=optimizer_kwargs['eps'],\n",
    "    lr=optimizer_kwargs['lr'],\n",
    ")"
   ]
  },
  {
   "cell_type": "code",
   "execution_count": 14,
   "id": "b9cc2b7f-b49c-468a-a247-78d85d7df1c0",
   "metadata": {},
   "outputs": [],
   "source": [
    "num_train_epochs = 10\n",
    "num_update_steps_per_epoch = len(train_dataloader)\n",
    "num_training_steps = num_train_epochs * num_update_steps_per_epoch\n",
    "\n",
    "lr_scheduler = get_scheduler(\n",
    "    \"linear\",\n",
    "    optimizer=adamW_bnb_optim,\n",
    "    num_warmup_steps=0,\n",
    "    num_training_steps=num_training_steps,\n",
    ")"
   ]
  },
  {
   "cell_type": "code",
   "execution_count": 15,
   "id": "e820ba8a-d6dd-441d-8fd9-0446b3e92be0",
   "metadata": {},
   "outputs": [],
   "source": [
    "accelerator = Accelerator(mixed_precision=\"fp16\")\n",
    "model, optimizer, train_dataloader, test_dataloader, lr_scheduler = accelerator.prepare(\n",
    "    model, adamW_bnb_optim, train_dataloader, test_dataloader, lr_scheduler\n",
    ")"
   ]
  },
  {
   "cell_type": "markdown",
   "id": "486237d8-6099-4a25-98dd-b829ccc9f851",
   "metadata": {},
   "source": [
    "<font face=Helvetica>  \n",
    "    \n",
    "# **Result**\n",
    "\n",
    ">### **Model performance**\n",
    ">\n",
    ">> <table align=\"left\" width=\"100%\">\n",
    ">>  <tr align=\"left\">\n",
    ">>    <th></th><th>Epoch 0</th><th>Epoch 1</th><th>Epoch 2</th><th>Epoch 3</th><th>Epoch 4</th><th>Epoch 5</th><th>Epoch 6</th><th>Epoch 7</th><th>Epoch 8</th><th>Epoch 9</th>\n",
    ">>  </tr>\n",
    ">>  <tr align=\"left\">\n",
    ">>    <th>Accuracy</th><td>0.92391</td><td>0.93470</td><td>0.93106</td><td>0.93685</td><td>0.93697</td><td><mark>0.93776</mark></td><td>0.93617</td><td><mark>0.93776</mark></td><td>0.93606</td><td>0.93617</td>\n",
    ">>  </tr>\n",
    ">>  <tr align=\"left\">\n",
    ">>    <th>F<sub>1</sub> score</th><td>0.92222</td><td>0.93572</td><td>0.93228</td><td>0.93793</td><td>0.93725</td><td><mark>0.93906</mark></td><td>0.93599</td><td>0.93874</td><td>0.93593</td><td>0.93644</td>\n",
    ">>  </tr>\n",
    ">> </table><br /><br /><br /><br />"
   ]
  },
  {
   "cell_type": "code",
   "execution_count": 16,
   "id": "3d8f9613-746a-4a81-804a-02fdc8b9b043",
   "metadata": {},
   "outputs": [
    {
     "data": {
      "application/vnd.jupyter.widget-view+json": {
       "model_id": "7fb6a7c44b454c409c739647431bf0a4",
       "version_major": 2,
       "version_minor": 0
      },
      "text/plain": [
       "  0%|          | 0/44230 [00:00<?, ?it/s]"
      ]
     },
     "metadata": {},
     "output_type": "display_data"
    },
    {
     "name": "stdout",
     "output_type": "stream",
     "text": [
      "\n",
      "        epoch 0: \n",
      "        {'accuracy': 0.9239068710959683, 'f1': 0.9222196424425354, 'precision': 0.9385633270321361, 'recall': 0.9064354176175262}\n",
      "        train_loss: 11205.36903476715 \n",
      "        eval_loss: 2547.7309061288834 \n",
      "        learning_rate: [9.001356545331224e-06, 9.001356545331224e-06] \n",
      "\n",
      "        epoch 1: \n",
      "        {'accuracy': 0.9346961953435547, 'f1': 0.9357182783678032, 'precision': 0.9171597633136095, 'recall': 0.9550433591967138}\n",
      "        train_loss: 10329.237890720367 \n",
      "        eval_loss: 2492.07948410511 \n",
      "        learning_rate: [8.001356545331223e-06, 8.001356545331223e-06] \n",
      "\n",
      "        epoch 2: \n",
      "        {'accuracy': 0.9310618966496309, 'f1': 0.9322771393506638, 'precision': 0.9120279414974897, 'recall': 0.953445915107257}\n",
      "        train_loss: 9979.876130342484 \n",
      "        eval_loss: 2485.025826215744 \n",
      "        learning_rate: [7.001582636219761e-06, 7.001582636219761e-06] \n",
      "\n",
      "        epoch 3: \n",
      "        {'accuracy': 0.9368540601930722, 'f1': 0.9379325742353204, 'precision': 0.9180506993006993, 'recall': 0.9586946599726153}\n",
      "        train_loss: 9660.408769845963 \n",
      "        eval_loss: 2496.6957725286484 \n",
      "        learning_rate: [6.002034817996836e-06, 6.002034817996836e-06] \n",
      "\n",
      "        epoch 4: \n",
      "        {'accuracy': 0.9369676320272572, 'f1': 0.9372526851328434, 'precision': 0.9287474792740309, 'recall': 0.9459151072569603}\n",
      "        train_loss: 9498.176306724548 \n",
      "        eval_loss: 2450.6379529237747 \n",
      "        learning_rate: [5.00248699977391e-06, 5.00248699977391e-06] \n",
      "\n",
      "        epoch 5: \n",
      "        {'accuracy': 0.9377626348665531, 'f1': 0.9390569395017794, 'precision': 0.9158351409978308, 'recall': 0.9634869922409859}\n",
      "        train_loss: 9418.100583672523 \n",
      "        eval_loss: 2459.882831931114 \n",
      "        learning_rate: [4.002713090662446e-06, 4.002713090662446e-06] \n",
      "\n",
      "        epoch 6: \n",
      "        {'accuracy': 0.9361726291879614, 'f1': 0.935990888382688, 'precision': 0.9342883128694861, 'recall': 0.9376996805111821}\n",
      "        train_loss: 9290.55766928196 \n",
      "        eval_loss: 2464.9967999458313 \n",
      "        learning_rate: [3.003165272439521e-06, 3.003165272439521e-06] \n",
      "\n",
      "        epoch 7: \n",
      "        {'accuracy': 0.9377626348665531, 'f1': 0.9387435725463894, 'precision': 0.9200262927256793, 'recall': 0.9582382473756276}\n",
      "        train_loss: 9204.566868901253 \n",
      "        eval_loss: 2486.1029920578003 \n",
      "        learning_rate: [2.003391363328058e-06, 2.003391363328058e-06] \n",
      "\n",
      "        epoch 8: \n",
      "        {'accuracy': 0.9360590573537763, 'f1': 0.9359280755661773, 'precision': 0.9334846765039727, 'recall': 0.9383842994066636}\n",
      "        train_loss: 9159.846261501312 \n",
      "        eval_loss: 2474.0368328094482 \n",
      "        learning_rate: [1.0038435451051324e-06, 1.0038435451051324e-06] \n",
      "\n",
      "        epoch 9: \n",
      "        {'accuracy': 0.9361726291879614, 'f1': 0.9364397195204704, 'precision': 0.9282511210762332, 'recall': 0.9447740757644911}\n",
      "        train_loss: 9134.606746077538 \n",
      "        eval_loss: 2456.4929493665695 \n",
      "        learning_rate: [4.069635993669455e-09, 4.069635993669455e-09] \n",
      "CPU times: user 1h 36min 31s, sys: 15.3 s, total: 1h 36min 46s\n",
      "Wall time: 1h 36min 34s\n"
     ]
    }
   ],
   "source": [
    "%%time\n",
    "\n",
    "progress_bar = tqdm(range(num_training_steps))\n",
    "metric = evaluate.combine([\"accuracy\", \"f1\", \"precision\", \"recall\"])\n",
    "overall_eval = {\"accuracy\":[], \"f1\":[], \"precision\":[], \"recall\":[]}\n",
    "total_loss = {\"train_loss\":[], \"eval_loss\":[]}\n",
    "\n",
    "for epoch in range(num_train_epochs):\n",
    "    train_loss = 0\n",
    "    eval_loss = 0\n",
    "    # Training\n",
    "    model.train()\n",
    "    for batch in train_dataloader:\n",
    "        outputs = model(**batch)\n",
    "        loss = outputs.loss\n",
    "        train_loss += loss.item()\n",
    "        accelerator.backward(loss)\n",
    "        \n",
    "        optimizer.step()\n",
    "        lr_scheduler.step()\n",
    "        optimizer.zero_grad()\n",
    "        progress_bar.update(1)\n",
    "\n",
    "    # Evaluation\n",
    "    model.eval()\n",
    "    for batch in test_dataloader:\n",
    "        with torch.no_grad():\n",
    "            outputs = model(**batch)\n",
    "            loss = outputs.loss\n",
    "            eval_loss += loss.item()\n",
    "\n",
    "        predictions = outputs.seq_relationship_logits.argmax(dim=-1)\n",
    "        predictions, references = accelerator.gather_for_metrics((predictions, batch[\"next_sentence_label\"]))\n",
    "        metric.add_batch(predictions=predictions, references=references)\n",
    "\n",
    "    eval_metric = metric.compute()\n",
    "    accelerator.print(\n",
    "        f\"\"\"\n",
    "        epoch {epoch}: \n",
    "        {eval_metric}\n",
    "        train_loss: {train_loss} \n",
    "        eval_loss: {eval_loss} \n",
    "        learning_rate: {lr_scheduler.get_last_lr()} \"\"\"\n",
    "    )\n",
    "        \n",
    "    for key, value in eval_metric.items():\n",
    "        overall_eval[key].append(round(value, 3))\n",
    "        \n",
    "    total_loss[\"train_loss\"].append(round(train_loss, 3))\n",
    "    total_loss[\"eval_loss\"].append(round(eval_loss, 3))\n",
    "    \n",
    "# Save\n",
    "output_dir = f\"bert-pretrained-model-finetuned-imdb\"\n",
    "accelerator.wait_for_everyone()\n",
    "unwrapped_model = accelerator.unwrap_model(model)\n",
    "unwrapped_model.save_pretrained(output_dir, save_function=accelerator.save)\n",
    "if accelerator.is_main_process:\n",
    "    tokenizer.save_pretrained(output_dir)\n"
   ]
  },
  {
   "cell_type": "code",
   "execution_count": 17,
   "id": "711ab801-5836-43d1-af19-56aef87a5c82",
   "metadata": {},
   "outputs": [
    {
     "data": {
      "image/png": "[encoded data removed]",
      "text/plain": [
       "<Figure size 1000x500 with 2 Axes>"
      ]
     },
     "metadata": {},
     "output_type": "display_data"
    }
   ],
   "source": [
    "x = range(1, num_train_epochs+1)\n",
    "plt.figure(figsize=(10,5))\n",
    "plt.subplot(1, 2, 1)\n",
    "plt.suptitle(\"bert-pretrained-model-finetuned-imdb\")\n",
    "\n",
    "plt.plot(x, overall_eval['accuracy'], 'r')\n",
    "plt.plot(x, overall_eval['f1'], 'b')\n",
    "plt.plot(x, overall_eval['precision'], 'y--')\n",
    "plt.plot(x, overall_eval['recall'], 'g--')\n",
    "\n",
    "plt.xlabel('epoch')\n",
    "plt.ylabel('score')\n",
    "plt.xticks(x)\n",
    "plt.legend(['accuracy','f1','precision','recall'])\n",
    "\n",
    "\n",
    "plt.subplot(1, 2, 2)\n",
    "\n",
    "plt.plot(x, total_loss['train_loss'])\n",
    "\n",
    "plt.xlabel('epoch')\n",
    "plt.ylabel('loss')\n",
    "plt.xticks(x)\n",
    "plt.legend(['train_loss'])\n",
    "\n",
    "plt.tight_layout()\n",
    "plt.show()"
   ]
  },
  {
   "cell_type": "markdown",
   "id": "c92be10e-beac-4cb0-832d-854b4d45f082",
   "metadata": {},
   "source": [
    "<font face=Helvetica>  \n",
    "    \n",
    "# **Conclusion**\n",
    "\n",
    "\n",
    ">* ##### For consistency of the experiment, setting **`seed = 42`** made the results reproducibility.\n",
    ">* ##### Pre-training took **`one hour and thirty-six minutes`** by using **`Nvidia Tesla T4 GPU`** on **`AWS EC2`**.\n",
    ">* ##### The best accuracy and $F_1$ score are **`0.93776`** and **`0.93906`** at **`epoch 5`**.\n",
    ">* ##### BERT model pre-trained on IMDB will be used for fine-tuning IMDB sentiment analysis.\n",
    ">>"
   ]
  }
 ],
 "metadata": {
  "kernelspec": {
   "display_name": "Python 3 (ipykernel)",
   "language": "python",
   "name": "python3"
  },
  "language_info": {
   "codemirror_mode": {
    "name": "ipython",
    "version": 3
   },
   "file_extension": ".py",
   "mimetype": "text/x-python",
   "name": "python",
   "nbconvert_exporter": "python",
   "pygments_lexer": "ipython3",
   "version": "3.12.4"
  }
 },
 "nbformat": 4,
 "nbformat_minor": 5
}
