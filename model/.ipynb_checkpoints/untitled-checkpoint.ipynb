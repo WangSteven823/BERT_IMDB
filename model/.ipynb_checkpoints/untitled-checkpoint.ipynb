{
 "cells": [
  {
   "cell_type": "code",
   "execution_count": 2,
   "id": "e8766ced-a5ae-449d-88fc-a782d9052c8e",
   "metadata": {},
   "outputs": [
    {
     "data": {
      "text/plain": [
       "DatasetDict({\n",
       "    train: Dataset({\n",
       "        features: ['text', 'label'],\n",
       "        num_rows: 25000\n",
       "    })\n",
       "    test: Dataset({\n",
       "        features: ['text', 'label'],\n",
       "        num_rows: 25000\n",
       "    })\n",
       "    unsupervised: Dataset({\n",
       "        features: ['text', 'label'],\n",
       "        num_rows: 50000\n",
       "    })\n",
       "})"
      ]
     },
     "execution_count": 2,
     "metadata": {},
     "output_type": "execute_result"
    }
   ],
   "source": [
    "from datasets import load_dataset\n",
    "\n",
    "raw_data = load_dataset(\"stanfordnlp/imdb\")\n",
    "raw_data"
   ]
  },
  {
   "cell_type": "code",
   "execution_count": 3,
   "id": "eb78fb7c-b745-4da8-b126-f13aad894d88",
   "metadata": {},
   "outputs": [
    {
     "name": "stdout",
     "output_type": "stream",
     "text": [
      "Worth the entertainment value of a rental, especially if you like action movies. This one features the usual car chases, fights with the great Van Damme kick style, shooting battles with the 40 shell load shotgun, and even terrorist style bombs. All of this is entertaining and competently handled but there is nothing that really blows you away if you've seen your share before.\n",
      "\n",
      "The plot is made interesting by the inclusion of a rabbit, which is clever but hardly profound. Many of the characters are heavily stereotyped -- the angry veterans, the terrified illegal aliens, the crooked cops, the indifferent feds, the bitchy tough lady station head, the crooked politician, the fat federale who looks like he was typecast as the Mexican in a Hollywood movie from the 1940s. All passably acted but again nothing special.\n",
      "\n",
      "I thought the main villains were pretty well done and fairly well acted. By the end of the movie you certainly knew who the good guys were and weren't. There was an emotional lift as the really bad ones got their just deserts. Very simplistic, but then you weren't expecting Hamlet, right? The only thing I found really annoying was the constant cuts to VDs daughter during the last fight scene.\n",
      "\n",
      "Not bad. Not good. Passable 4.\n"
     ]
    }
   ],
   "source": [
    "import re \n",
    "\n",
    "re_br = re.compile(r'<br\\s*?/?>')\n",
    "raw_data = raw_data.map(\n",
    "    lambda x: {\"text\": [re_br.sub(\"\\n\", reviews) for reviews in x['text']]},\n",
    "    batched=True\n",
    ")\n",
    "print(raw_data['test'][1]['text'])"
   ]
  },
  {
   "cell_type": "code",
   "execution_count": 4,
   "id": "6b4b2d8c-dd26-4440-a279-b6187296bdd1",
   "metadata": {},
   "outputs": [
    {
     "name": "stderr",
     "output_type": "stream",
     "text": [
      "Some weights of BertForSequenceClassification were not initialized from the model checkpoint at bert-base-uncased and are newly initialized: ['classifier.bias', 'classifier.weight']\n",
      "You should probably TRAIN this model on a down-stream task to be able to use it for predictions and inference.\n"
     ]
    }
   ],
   "source": [
    "import torch \n",
    "\n",
    "from transformers import AutoTokenizer\n",
    "from transformers import DataCollatorWithPadding\n",
    "from transformers import AutoModelForSequenceClassification\n",
    "# from transformers import TrainingArguments\n",
    "\n",
    "\n",
    "output_dir = \"C:/Users/Steven/IMDB/bert-finetuned-imdb-sentiment-accelerate-epoch_3\"\n",
    "config = f\"{output_dir}/config\"\n",
    "model_checkpoint = \"bert-base-uncased\"\n",
    "id2label = {0: \"NEGATIVE\", 1: \"POSITIVE\"}\n",
    "label2id = {\"NEGATIVE\": 0, \"POSITIVE\": 1}\n",
    "\n",
    "tokenizer = AutoTokenizer.from_pretrained(model_checkpoint)\n",
    "data_collator = DataCollatorWithPadding(tokenizer=tokenizer)\n",
    "model = AutoModelForSequenceClassification.from_pretrained(\n",
    "    model_checkpoint, \n",
    "    # config=config, \n",
    "    num_labels=2, \n",
    "    id2label=id2label, \n",
    "    label2id=label2id, \n",
    "    # use_flash_attention_2=False                                        \n",
    "    \n",
    ")\n",
    "# training_args = TrainingArguments(\n",
    "#     per_device_train_batch_size=8,\n",
    "#     fp16=True,\n",
    "#     learning_rate=3e-5,\n",
    "#     output_dir=\"bert-finetuned-imdb-sentiment-accelerate\",\n",
    "# )"
   ]
  },
  {
   "cell_type": "code",
   "execution_count": 5,
   "id": "297f9934-560a-4d6d-8a3e-0848d7773b99",
   "metadata": {},
   "outputs": [],
   "source": [
    "def tokenize_and_split(examples):\n",
    "    result = tokenizer(\n",
    "        examples[\"text\"],\n",
    "        add_special_tokens=True,\n",
    "        max_length=512,\n",
    "        padding='max_length',\n",
    "        truncation=True,\n",
    "        return_overflowing_tokens=True,\n",
    "\n",
    "    )\n",
    "\n",
    "    # # Extract mapping between new and old indices\n",
    "    sample_map = result.pop(\"overflow_to_sample_mapping\")\n",
    "    for _, values in examples.items():\n",
    "        result[\"labels\"] = [values[i] for i in sample_map]\n",
    "    return result\n"
   ]
  },
  {
   "cell_type": "code",
   "execution_count": 6,
   "id": "5341df84-311b-43d5-a052-bdcf4dd7a50e",
   "metadata": {},
   "outputs": [],
   "source": [
    "from torch.utils.data import DataLoader\n",
    "\n",
    "# train_data = raw_data['train'].shuffle(seed=42)\n",
    "test_data = raw_data['test'].shuffle(seed=42)\n",
    "# tokenized_train = train_data.map(\n",
    "#     tokenize_and_split, \n",
    "#     batched=True,\n",
    "#     remove_columns=train_data.column_names\n",
    "# )\n",
    "# tokenized_sample.set_format('torch')\n",
    "tokenized_test = test_data.map(\n",
    "    tokenize_and_split, \n",
    "    batched=True,\n",
    "    remove_columns=test_data.column_names\n",
    ")\n",
    "# tokenized_sample_test.set_format('torch')\n",
    "# train_dataloader = DataLoader(\n",
    "#     tokenized_train,\n",
    "#     shuffle=True,\n",
    "#     batch_size=8,\n",
    "#     collate_fn=data_collator\n",
    "# )\n",
    "test_dataloader = DataLoader(\n",
    "    tokenized_test,\n",
    "    batch_size=8,\n",
    "    collate_fn=data_collator,\n",
    "    pin_memory=True\n",
    ")\n"
   ]
  },
  {
   "cell_type": "code",
   "execution_count": 7,
   "id": "d7734537-d49d-4378-8797-6caaa65c169d",
   "metadata": {},
   "outputs": [],
   "source": [
    "from accelerate import Accelerator\n",
    "\n",
    "accelerator = Accelerator(mixed_precision='fp16')\n",
    "model, test_dataloader = accelerator.prepare(\n",
    "    model, test_dataloader\n",
    ")"
   ]
  },
  {
   "cell_type": "code",
   "execution_count": 8,
   "id": "dc171e98-8584-4834-8ed3-a67214e67728",
   "metadata": {},
   "outputs": [
    {
     "data": {
      "application/vnd.jupyter.widget-view+json": {
       "model_id": "aed38feea6ef495ba283846e2da59af0",
       "version_major": 2,
       "version_minor": 0
      },
      "text/plain": [
       "  0%|          | 0/3565 [00:00<?, ?it/s]"
      ]
     },
     "metadata": {},
     "output_type": "display_data"
    },
    {
     "name": "stdout",
     "output_type": "stream",
     "text": [
      "{'accuracy': 0.49763265878721985, 'f1': 0.0009764262798158739, 'precision': 0.5, 'recall': 0.0004886903099692823}\n",
      "{'accuracy': [0.498], 'f1': [0.001], 'precision': [0.5], 'recall': [0.0]}\n"
     ]
    }
   ],
   "source": [
    "import torch\n",
    "import evaluate\n",
    "\n",
    "from tqdm.auto import tqdm\n",
    "\n",
    "progress_bar = tqdm(range(len(test_dataloader)))\n",
    "metric = evaluate.combine([\"accuracy\", \"f1\", \"precision\", \"recall\"])\n",
    "Overall_eval = {'accuracy':[], 'f1':[], 'precision':[], 'recall':[]}\n",
    "\n",
    "model.eval()\n",
    "for batch in test_dataloader:\n",
    "    with torch.no_grad():\n",
    "        outputs = model(**batch)\n",
    "\n",
    "    predictions = outputs.logits.argmax(dim=-1)\n",
    "\n",
    "    # Necessary to pad predictions and labels for being gathered\n",
    "    # predictions_pad = accelerator.pad_across_processes(predictions, dim=1, pad_index=-100)\n",
    "    # batch_labels = accelerator.pad_across_processes(batch[\"labels\"], dim=1, pad_index=-100)\n",
    "    \n",
    "    predictions, references = accelerator.gather_for_metrics((predictions, batch[\"labels\"]))\n",
    "\n",
    "    # true_predictions, true_labels = postprocess(prediction, references)\n",
    "    metric.add_batch(predictions=predictions, references=references)\n",
    "    progress_bar.update(1)\n",
    "\n",
    "eval_metric = metric.compute()\n",
    "accelerator.print(eval_metric)\n",
    "\n",
    "for key, value in eval_metric.items():\n",
    "    Overall_eval[key].append(round(value, 3))\n",
    "print(Overall_eval)"
   ]
  },
  {
   "cell_type": "code",
   "execution_count": 10,
   "id": "2ac60d1d-f4ea-4ce8-9841-4a8bdb71d39c",
   "metadata": {},
   "outputs": [
    {
     "data": {
      "text/plain": [
       "tensor([0], device='cuda:0')"
      ]
     },
     "execution_count": 10,
     "metadata": {},
     "output_type": "execute_result"
    }
   ],
   "source": [
    "outputs"
   ]
  },
  {
   "cell_type": "code",
   "execution_count": null,
   "id": "c76cf59f-a5eb-470d-b8b9-44524e788305",
   "metadata": {},
   "outputs": [],
   "source": [
    "# WordPiece Tokenize sample \n",
    "from tokenizers import BertWordPieceTokenizer\n",
    "from tokenizers.processors import TemplateProcessing\n",
    "\n",
    "bert_pretokenizer = BertWordPieceTokenizer(\n",
    "    clean_text=True,\n",
    "    handle_chinese_chars=True,\n",
    "    strip_accents=True,\n",
    "    lowercase=True\n",
    ")\n",
    "\n",
    "bert_pretokenizer.post_processor = TemplateProcessing(\n",
    "    single=\"[CLS] $A [SEP]\",\n",
    "    pair=\"[CLS] $A [SEP] $B:1 [SEP]:1\",\n",
    "    special_tokens=[\n",
    "        (\"[CLS]\", 1),\n",
    "        (\"[SEP]\", 2),\n",
    "    ],\n",
    ")\n",
    "\n",
    "bert_pretokenizer.train_from_iterator(\n",
    "    [raw_data['train']['text'], raw_data['test']['text']],\n",
    "    vocab_size=30522,\n",
    "    special_tokens=[\"[PAD]\", \"[CLS]\", \"[SEP]\", \"[MASK]\", \"[UNK]\"]\n",
    ")\n",
    "# bert_pretokenizer.save_model(\"./bert_pretokenizer/\")"
   ]
  }
 ],
 "metadata": {
  "kernelspec": {
   "display_name": "Python 3 (ipykernel)",
   "language": "python",
   "name": "python3"
  },
  "language_info": {
   "codemirror_mode": {
    "name": "ipython",
    "version": 3
   },
   "file_extension": ".py",
   "mimetype": "text/x-python",
   "name": "python",
   "nbconvert_exporter": "python",
   "pygments_lexer": "ipython3",
   "version": "3.12.4"
  }
 },
 "nbformat": 4,
 "nbformat_minor": 5
}
